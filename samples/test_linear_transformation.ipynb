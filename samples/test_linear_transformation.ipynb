{
 "cells": [
  {
   "cell_type": "code",
   "execution_count": null,
   "metadata": {
    "collapsed": false
   },
   "outputs": [],
   "source": [
    "%pylab inline\n",
    "import numpy as np\n",
    "import pandas as pd\n",
    "import matplotlib.pyplot as plt"
   ]
  },
  {
   "cell_type": "code",
   "execution_count": null,
   "metadata": {
    "collapsed": false
   },
   "outputs": [],
   "source": [
    "def homogeneous_coords(xy):\n",
    "    \"\"\"Return copy of xy with additional dimension (==1).\n",
    "\n",
    "    Parameters\n",
    "    ----------\n",
    "    xy : np.array of shape (n,) or (m, n)\n",
    "        n dimensions, m values\n",
    "\n",
    "    Returns\n",
    "    -------\n",
    "    np.array of shape (n+1,) or (m, n+1)\n",
    "        Additional dimension with constant value == 1.\n",
    "    \"\"\"\n",
    "    if xy.ndim == 1:\n",
    "        newshape = (xy.shape[0]+1, )\n",
    "        newxy = np.ndarray(shape=newshape)\n",
    "        newxy[:-1] = xy\n",
    "        newxy[-1] = 1\n",
    "        return newxy\n",
    "\n",
    "    newshape = xy.shape[0], xy.shape[1]+1\n",
    "    newxy = np.ndarray(shape=newshape)\n",
    "    newxy[:, :xy.shape[1]] = xy\n",
    "\n",
    "    newxy[:, -1] = 1\n",
    "    return newxy\n",
    "\n",
    "def linear_transformation(a, b):\n",
    "    \"\"\"Least squares fit linear transformations of points a to b.\n",
    "\n",
    "    Parameters\n",
    "    ----------\n",
    "    a, b : np.array of shape (n, 2)\n",
    "        x- and y-coords\n",
    "\n",
    "    Returns\n",
    "    -------\n",
    "    np.array of shape (3, 3)\n",
    "    \"\"\"\n",
    "    xya = homogeneous_coords(a)\n",
    "    xyb = homogeneous_coords(b)\n",
    "    # lin. transf. matrix between a and b xy pos = fit\n",
    "    fit = np.linalg.lstsq(xya, xyb)\n",
    "    #print fit\n",
    "    #print \"translation=%s\" % fit[2,:2]\n",
    "    return fit[0]\n",
    "\n",
    "def remove_translation(m):\n",
    "    \"\"\"Remove translation from homogeneous transformation matrix.\"\"\"\n",
    "    newm = np.zeros(m.shape)\n",
    "    newm[:2, :2] = m[:2, :2]\n",
    "    newm[2, 2] = 1\n",
    "    return newm\n",
    "\n",
    "def decomp(m):\n",
    "    \"\"\"Decompose matrix m into translation, scaling, rotation and shear.\n",
    "\n",
    "    Used:\n",
    "    * http://math.stackexchange.com/questions/13150/extracting-rotation-scale-values-from-2d-transformation-matrix?lq=1\n",
    "\n",
    "    Parameters\n",
    "    ----------\n",
    "    m : np.array of shape (3, 3)\n",
    "\n",
    "    Returns\n",
    "    -------\n",
    "    four np.arrays of shape (3, 3)\n",
    "        Translation, scaling, rotation, and shear matrix. Multiply in that order\n",
    "        to obtain input matrix: ``np.dot(np.dot(msc, np.dot(mrot, msh)), mtr)``.\n",
    "    \"\"\"\n",
    "    tx = m[2, 0]\n",
    "    ty = m[2, 1]\n",
    "    a, b, c, d = m[0, 0], m[0, 1], m[1, 0], m[1, 1]\n",
    "    sx = np.sign(a) * np.sqrt(np.square(a) + np.square(b))\n",
    "    sy = np.sign(d) * np.sqrt(np.square(c) + np.square(d))\n",
    "    phi = np.arctan2(-b, a)\n",
    "    mtr = np.array([[1, 0, 0], [0, 1, 0], [tx, ty, 1]])\n",
    "    msc = np.array([[sx, 0, 0], [0, sy, 0], [0, 0, 1]])\n",
    "    mrot = np.array([[np.cos(phi), -np.sin(phi), 0],\n",
    "                     [np.sin(phi), np.cos(phi), 0],\n",
    "                     [0, 0, 1]])\n",
    "    mdecomp = np.dot(np.dot(msc, mrot), mtr)\n",
    "    msh0 = np.linalg.lstsq(mdecomp[:2, :2], m[:2, :2])\n",
    "    msh = np.zeros((3, 3))\n",
    "    msh[:2, :2] += msh0[0]\n",
    "    msh[2, 2] = 1\n",
    "    return mtr, msc, mrot, msh\n",
    "\n",
    "def decomp2(m):\n",
    "    \"\"\"Decompose matrix m into translation, scaling, rotation and shear.\n",
    "\n",
    "    Used:\n",
    "    * http://math.stackexchange.com/questions/78137/decomposition-of-a-nonsquare-affine-matrix\n",
    "\n",
    "\n",
    "    Returns\n",
    "    -------\n",
    "        mrot.msh.msc.mtr\n",
    "    \"\"\"\n",
    "    c, f = m[2, 0], m[2, 1]\n",
    "    a, d, b, e = m[0, 0], m[0, 1], m[1, 0], m[1, 1]\n",
    "    p = np.sqrt(a**2 + b**2)\n",
    "    r = (a*e - b*d) / p\n",
    "    q = (a*d + b*e) / (a*e - b*d)\n",
    "    phi = np.arctan2(-b, a)\n",
    "\n",
    "    mtr = np.array([[1, 0, 0], [0, 1, 0], [c, f, 1]])\n",
    "    msc = np.array([[p, 0, 0], [0, r, 0], [0, 0, 1]])\n",
    "    msh = np.array([[1, q, 0], [1, 0, 0], [0, 0, 1]])\n",
    "    mrot = np.array([[np.cos(phi), -np.sin(phi), 0],\n",
    "                     [np.sin(phi), np.cos(phi), 0],\n",
    "                     [0, 0, 1]])\n",
    "\n",
    "    raise NotImplementedError(\"Not implemented correctly!\")\n",
    "    return mtr, msc, msh, mrot\n",
    "\n",
    "def decomp_scalar(m):\n",
    "    \"\"\"\n",
    "    Returns\n",
    "    -------\n",
    "    tuple: tx, ty, sx, sy, phi\n",
    "        phi in rad\n",
    "    \"\"\"\n",
    "    tx = m[2, 0]\n",
    "    ty = m[2, 1]\n",
    "    a, b, c, d = m[0, 0], m[0, 1], m[1, 0], m[1, 1]\n",
    "    sx = np.sign(a) * np.sqrt(np.square(a) + np.square(b))\n",
    "    sy = np.sign(d) * np.sqrt(np.square(c) + np.square(d))\n",
    "    phi = np.arctan2(-b, a)\n",
    "    return tx, ty, sx, sy, phi"
   ]
  },
  {
   "cell_type": "code",
   "execution_count": null,
   "metadata": {
    "collapsed": false
   },
   "outputs": [],
   "source": [
    "# design positions\n",
    "tx, ty = np.meshgrid(\n",
    "    np.linspace(-2, 2, 2), \n",
    "    np.linspace(-2, 2, 2)\n",
    ")\n",
    "txy = np.array([tx.flatten(), ty.flatten()]).T\n",
    "xy = txy\n",
    "xy += np.array([1, 1])\n",
    "xy"
   ]
  },
  {
   "cell_type": "code",
   "execution_count": null,
   "metadata": {
    "collapsed": false
   },
   "outputs": [],
   "source": [
    "#np.cos(np.pi/4), np.sin(np.pi/4)\n",
    "theta = np.pi/8\n",
    "tx, ty = 0.23, 0.98\n",
    "sx, sy = 1., 1.\n",
    "m = np.array(\n",
    "    [[sx*np.cos(theta), -sx*np.sin(theta), 0], \n",
    "     [sy*np.sin(theta), sy*np.cos(theta), 0], \n",
    "     [tx, ty, 1]]\n",
    ")\n",
    "shxy, shyx = 0., 0.\n",
    "m = np.array(\n",
    "    [[sx*np.cos(theta) + sx*np.sin(theta)*shxy, -sx*np.sin(theta), 0], \n",
    "     [sy*np.sin(theta), sy*np.cos(theta), 0], \n",
    "     [tx, ty, 1]]\n",
    ")\n",
    "\n",
    "m = np.array(\n",
    "    [[0.95, 0.86, 0],\n",
    "     [0.07, 1.13, 0],\n",
    "     [1.5, -0.52, 1]]\n",
    ")\n",
    "\n",
    "m"
   ]
  },
  {
   "cell_type": "code",
   "execution_count": null,
   "metadata": {
    "collapsed": false
   },
   "outputs": [],
   "source": [
    "mtr, msc, mrot, msh = decomp(m)\n",
    "tx, ty, sx, sy, phi = decomp_scalar(m)\n",
    "phi / pi * 180"
   ]
  },
  {
   "cell_type": "code",
   "execution_count": null,
   "metadata": {
    "collapsed": false
   },
   "outputs": [],
   "source": [
    "mall = np.dot(np.dot(msc, np.dot(mrot, msh)), mtr)\n",
    "mall, (np.abs(mall - m) < 1e-15).all()\n",
    "#msh\n",
    "#np.dot(msc, np.dot(mrot, mtr))"
   ]
  },
  {
   "cell_type": "code",
   "execution_count": null,
   "metadata": {
    "collapsed": false
   },
   "outputs": [],
   "source": [
    "# measured positions\n",
    "#m = np.dot(msc, mrot)\n",
    "xym = np.dot(homogeneous_coords(xy), m)\n",
    "xym"
   ]
  },
  {
   "cell_type": "code",
   "execution_count": null,
   "metadata": {
    "collapsed": false
   },
   "outputs": [],
   "source": [
    "# fit of design positions to measured positions\n",
    "mfit, _, _, _ = np.linalg.lstsq(homogeneous_coords(xy), xym)\n",
    "mfit"
   ]
  },
  {
   "cell_type": "code",
   "execution_count": null,
   "metadata": {
    "collapsed": false
   },
   "outputs": [],
   "source": [
    "# fitted positions\n",
    "xyf = np.dot(homogeneous_coords(xy), mfit)\n",
    "xyf"
   ]
  },
  {
   "cell_type": "code",
   "execution_count": null,
   "metadata": {
    "collapsed": false
   },
   "outputs": [],
   "source": [
    "mfittr, mfitsc, mfitrot, mfitsh = decomp(mfit)\n",
    "mfitall = np.dot(np.dot(mfitsc, np.dot(mfitrot, mfitsh)), mfittr)\n",
    "mfitall, (np.abs(mfitall - m) < 1e-15).all()"
   ]
  },
  {
   "cell_type": "code",
   "execution_count": null,
   "metadata": {
    "collapsed": false
   },
   "outputs": [],
   "source": [
    "xyf1 = np.dot(homogeneous_coords(xy), \n",
    "              np.dot(np.dot(mfitsc, np.dot(mfitrot, mfitsh)), mfittr))\n",
    "#xyf1 = np.dot(homogeneous_coords(xy), mfit)"
   ]
  },
  {
   "cell_type": "code",
   "execution_count": null,
   "metadata": {
    "collapsed": false
   },
   "outputs": [],
   "source": [
    "# deviations\n",
    "xyc = xym[:, :2] - xy\n",
    "xyc"
   ]
  },
  {
   "cell_type": "code",
   "execution_count": null,
   "metadata": {
    "collapsed": false
   },
   "outputs": [],
   "source": [
    "# plot design positions, measured positions, and deviations\n",
    "fig2 = plt.figure()\n",
    "fig2.set_size_inches(5, 5)\n",
    "\n",
    "ax20 = fig2.add_subplot(1, 1, 1)\n",
    "ax20.scatter(xy[:, 0], xy[:, 1], color=\"k\")\n",
    "ax20.scatter(xym[:, 0], xym[:, 1], color=\"r\")\n",
    "#ax20.scatter(xyf1[:, 0], xyf1[:, 1], color=\"g\")\n",
    "ax20.quiver(xy[:,0], xy[:,1], xyc[:, 0], xyc[:, 1],\n",
    "            units=\"xy\", scale=1e0)\n",
    "\n",
    "\n",
    "mtmp0 = np.dot(np.dot(mfitsc, np.dot(mfitrot, mfitsh)), mfittr)\n",
    "ax20.scatter(np.dot(homogeneous_coords(xy), mtmp0)[:, 0], \n",
    "             np.dot(homogeneous_coords(xy), mtmp0)[:, 1], \n",
    "             color=\"pink\")\n",
    "\n",
    "mtmp1 = np.dot(np.dot(mfitsc, mfitrot), mfittr)\n",
    "ax20.scatter(np.dot(homogeneous_coords(xy), mtmp1)[:, 0], \n",
    "             np.dot(homogeneous_coords(xy), mtmp1)[:, 1], \n",
    "             color=\"orange\")\n",
    "\n",
    "mtmp2 = np.dot(mfitrot, mfittr)\n",
    "ax20.scatter(np.dot(homogeneous_coords(xy), mtmp2)[:, 0], \n",
    "             np.dot(homogeneous_coords(xy), mtmp2)[:, 1], \n",
    "             color=\"y\")\n",
    "\n",
    "mtmp3 = mfittr\n",
    "ax20.scatter(np.dot(homogeneous_coords(xy), mtmp3)[:, 0], \n",
    "             np.dot(homogeneous_coords(xy), mtmp3)[:, 1], \n",
    "             color=\"gray\")\n",
    "\n",
    "ax20.set_xlim(-10, 10)\n",
    "ax20.set_ylim(-10, 10)\n",
    "ax20.grid()"
   ]
  },
  {
   "cell_type": "markdown",
   "metadata": {},
   "source": [
    "# Write to DataFrame and csv-file"
   ]
  },
  {
   "cell_type": "code",
   "execution_count": null,
   "metadata": {
    "collapsed": false
   },
   "outputs": [],
   "source": [
    "df = pd.DataFrame(dtype=np.float64)\n",
    "df[\"x pos design\"] = xy[:,0]\n",
    "df[\"y pos design\"] = xy[:,1]\n",
    "df[\"x dev\"] = xyc[:,0]\n",
    "df[\"y dev\"] = xyc[:,1]\n",
    "df.info()"
   ]
  },
  {
   "cell_type": "code",
   "execution_count": null,
   "metadata": {
    "collapsed": false
   },
   "outputs": [],
   "source": [
    "print df.to_csv(sep=\";\", float_format=\"%12.5f\")"
   ]
  },
  {
   "cell_type": "code",
   "execution_count": null,
   "metadata": {
    "collapsed": false
   },
   "outputs": [],
   "source": [
    "#df[\"y dev\"][5] = np.nan\n",
    "#df[\"x dev\"][4] = np.nan\n",
    "#print df.to_csv(sep=\";\", float_format=\"%12.5f\", na_rep=\" \"*12)"
   ]
  }
 ],
 "metadata": {
  "kernelspec": {
   "display_name": "Python 2",
   "language": "python",
   "name": "python2"
  },
  "language_info": {
   "codemirror_mode": {
    "name": "ipython",
    "version": 2
   },
   "file_extension": ".py",
   "mimetype": "text/x-python",
   "name": "python",
   "nbconvert_exporter": "python",
   "pygments_lexer": "ipython2",
   "version": "2.7.3"
  }
 },
 "nbformat": 4,
 "nbformat_minor": 0
}
