{
 "cells": [
  {
   "cell_type": "code",
   "execution_count": null,
   "metadata": {
    "collapsed": false
   },
   "outputs": [],
   "source": [
    "%pylab inline\n",
    "import numpy as np\n",
    "import pandas as pd\n",
    "import matplotlib.pyplot as plt"
   ]
  },
  {
   "cell_type": "markdown",
   "metadata": {},
   "source": [
    "# Decompose Affine Transformation\n",
    "\n",
    "$$\n",
    "A x = B\n",
    "$$\n",
    "\n",
    "$$\n",
    "x = \\begin{pmatrix}\n",
    "a & b & tx\\\\\n",
    "c & d & ty\\\\\n",
    "0 & 0 & 1\n",
    "\\end{pmatrix}\n",
    "$$\n",
    "\n",
    "* http://callumhay.blogspot.co.at/2010/10/decomposing-affine-transforms.html"
   ]
  },
  {
   "cell_type": "markdown",
   "metadata": {},
   "source": [
    "## Decompose using elements of least-squares fit"
   ]
  },
  {
   "cell_type": "code",
   "execution_count": null,
   "metadata": {
    "collapsed": false
   },
   "outputs": [],
   "source": [
    "def homogeneous_coords(xy):\n",
    "    \"\"\"Return copy of xy with additional dimension (==1).\n",
    "\n",
    "    Parameters\n",
    "    ----------\n",
    "    xy : np.array of shape (n,) or (m, n)\n",
    "        n dimensions, m values\n",
    "\n",
    "    Returns\n",
    "    -------\n",
    "    np.array of shape (n+1,) or (m, n+1)\n",
    "        Additional dimension with constant value == 1.\n",
    "    \"\"\"\n",
    "    if xy.ndim == 1:\n",
    "        newshape = (xy.shape[0]+1, )\n",
    "        newxy = np.ndarray(shape=newshape)\n",
    "        newxy[:-1] = xy\n",
    "        newxy[-1] = 1\n",
    "        return newxy\n",
    "\n",
    "    newshape = xy.shape[0], xy.shape[1]+1\n",
    "    newxy = np.ndarray(shape=newshape)\n",
    "    newxy[:, :xy.shape[1]] = xy\n",
    "\n",
    "    newxy[:, -1] = 1\n",
    "    return newxy\n",
    "\n",
    "def linear_transformation(a, b):\n",
    "    \"\"\"Least squares fit linear transformations of points a to b.\n",
    "\n",
    "    Parameters\n",
    "    ----------\n",
    "    a, b : np.array of shape (n, 2)\n",
    "        x- and y-coords\n",
    "\n",
    "    Returns\n",
    "    -------\n",
    "    np.array of shape (3, 3)\n",
    "    \"\"\"\n",
    "    xya = homogeneous_coords(a)\n",
    "    xyb = homogeneous_coords(b)\n",
    "    # lin. transf. matrix between a and b xy pos = fit\n",
    "    fit = np.linalg.lstsq(xya, xyb)\n",
    "    #print fit\n",
    "    #print \"translation=%s\" % fit[2,:2]\n",
    "    return fit[0]\n",
    "\n",
    "def remove_translation(m):\n",
    "    \"\"\"Remove translation from homogeneous transformation matrix.\"\"\"\n",
    "    newm = np.zeros(m.shape)\n",
    "    newm[:2, :2] = m[:2, :2]\n",
    "    newm[2, 2] = 1\n",
    "    return newm\n",
    "\n",
    "def decomp(m):\n",
    "    \"\"\"Decompose matrix m into translation, scaling, rotation and shear.\n",
    "\n",
    "    Used:\n",
    "    * http://math.stackexchange.com/questions/13150/extracting-rotation-scale-values-from-2d-transformation-matrix?lq=1\n",
    "\n",
    "    Parameters\n",
    "    ----------\n",
    "    m : np.array of shape (3, 3)\n",
    "\n",
    "    Returns\n",
    "    -------\n",
    "    four np.arrays of shape (3, 3)\n",
    "        Translation, scaling, rotation, and shear matrix. Multiply in that order\n",
    "        to obtain input matrix: ``np.dot(np.dot(np.dot(msc, mrot), msh), mtr)``.\n",
    "    \"\"\"\n",
    "    tx = m[2, 0]\n",
    "    ty = m[2, 1]\n",
    "    a, b, c, d = m[0, 0], m[0, 1], m[1, 0], m[1, 1]\n",
    "    sx = np.sign(a) * np.sqrt(np.square(a) + np.square(b))\n",
    "    sy = np.sign(d) * np.sqrt(np.square(c) + np.square(d))\n",
    "    phi = np.arctan2(-b, a)\n",
    "    mtr = np.array([[1, 0, 0], [0, 1, 0], [tx, ty, 1]])\n",
    "    msc = np.array([[sx, 0, 0], [0, sy, 0], [0, 0, 1]])\n",
    "    mrot = np.array([[np.cos(phi), -np.sin(phi), 0],\n",
    "                     [np.sin(phi), np.cos(phi), 0],\n",
    "                     [0, 0, 1]])\n",
    "    mdecomp = np.dot(np.dot(msc, mrot), mtr)\n",
    "    msh0 = np.linalg.lstsq(mdecomp[:2, :2], m[:2, :2])\n",
    "    msh = np.zeros((3, 3))\n",
    "    msh[:2, :2] += msh0[0]\n",
    "    msh[2, 2] = 1\n",
    "    return mtr, msc, mrot, msh\n",
    "\n",
    "def decomp2(m):\n",
    "    \"\"\"Decompose matrix m into translation, scaling, rotation and shear.\n",
    "\n",
    "    Used:\n",
    "    * http://math.stackexchange.com/questions/78137/decomposition-of-a-nonsquare-affine-matrix\n",
    "\n",
    "\n",
    "    Returns\n",
    "    -------\n",
    "        mrot.msh.msc.mtr\n",
    "    \"\"\"\n",
    "    c, f = m[2, 0], m[2, 1]\n",
    "    a, d, b, e = m[0, 0], m[0, 1], m[1, 0], m[1, 1]\n",
    "    p = np.sqrt(a**2 + b**2)\n",
    "    r = (a*e - b*d) / p\n",
    "    q = (a*d + b*e) / (a*e - b*d)\n",
    "    phi = np.arctan2(-b, a)\n",
    "\n",
    "    mtr = np.array([[1, 0, 0], [0, 1, 0], [c, f, 1]])\n",
    "    msc = np.array([[p, 0, 0], [0, r, 0], [0, 0, 1]])\n",
    "    msh = np.array([[1, q, 0], [1, 0, 0], [0, 0, 1]])\n",
    "    mrot = np.array([[np.cos(phi), -np.sin(phi), 0],\n",
    "                     [np.sin(phi), np.cos(phi), 0],\n",
    "                     [0, 0, 1]])\n",
    "\n",
    "    raise NotImplementedError(\"Not implemented correctly!\")\n",
    "    return mtr, msc, msh, mrot\n",
    "\n",
    "def decomp_scalar(m):\n",
    "    \"\"\"\n",
    "    Returns\n",
    "    -------\n",
    "    tuple: tx, ty, sx, sy, phi\n",
    "        phi in rad\n",
    "    \"\"\"\n",
    "    tx = m[2, 0]\n",
    "    ty = m[2, 1]\n",
    "    a, b, c, d = m[0, 0], m[0, 1], m[1, 0], m[1, 1]\n",
    "    sx = np.sign(a) * np.sqrt(np.square(a) + np.square(b))\n",
    "    sy = np.sign(d) * np.sqrt(np.square(c) + np.square(d))\n",
    "    phi = np.arctan2(-b, a)\n",
    "    return tx, ty, sx, sy, phi"
   ]
  },
  {
   "cell_type": "code",
   "execution_count": null,
   "metadata": {
    "collapsed": false
   },
   "outputs": [],
   "source": [
    "# design positions\n",
    "tx, ty = np.meshgrid(\n",
    "    np.linspace(-2, 2, 2), \n",
    "    np.linspace(-2, 2, 2)\n",
    ")\n",
    "txy = np.array([tx.flatten(), ty.flatten()]).T\n",
    "xy = txy\n",
    "xy += np.array([1, 1])\n",
    "xy = xy[[0, 1, 3, 2]]\n",
    "xy"
   ]
  },
  {
   "cell_type": "code",
   "execution_count": null,
   "metadata": {
    "collapsed": false
   },
   "outputs": [],
   "source": [
    "# distortion matrix\n",
    "theta = np.pi/8\n",
    "tx, ty = 0.23, 0.98\n",
    "sx, sy = 1., 1.\n",
    "m = np.array(\n",
    "    [[sx*np.cos(theta), -sx*np.sin(theta), 0], \n",
    "     [sy*np.sin(theta), sy*np.cos(theta), 0], \n",
    "     [tx, ty, 1]]\n",
    ")\n",
    "shxy, shyx = 0., 0.\n",
    "m = np.array(\n",
    "    [[sx*np.cos(theta) + sx*np.sin(theta)*shxy, -sx*np.sin(theta), 0], \n",
    "     [sy*np.sin(theta), sy*np.cos(theta), 0], \n",
    "     [tx, ty, 1]]\n",
    ")\n",
    "m = np.array(\n",
    "    [[0.95, 0.86, 0],\n",
    "     [0.07, 1.13, 0],\n",
    "     [1.5, -0.52, 1]]\n",
    ")\n",
    "\n",
    "m"
   ]
  },
  {
   "cell_type": "code",
   "execution_count": null,
   "metadata": {
    "collapsed": false
   },
   "outputs": [],
   "source": [
    "mtr, msc, mrot, msh = decomp(m)\n",
    "tx, ty, sx, sy, phi = decomp_scalar(m)\n",
    "phi / pi * 180"
   ]
  },
  {
   "cell_type": "code",
   "execution_count": null,
   "metadata": {
    "collapsed": false
   },
   "outputs": [],
   "source": [
    "mall = np.dot(np.dot(msc, np.dot(mrot, msh)), mtr)\n",
    "mall, (np.abs(mall - m) < 1e-15).all()\n",
    "#msh\n",
    "#np.dot(msc, np.dot(mrot, mtr))"
   ]
  },
  {
   "cell_type": "code",
   "execution_count": null,
   "metadata": {
    "collapsed": false
   },
   "outputs": [],
   "source": [
    "# measured positions\n",
    "#m = np.dot(msc, mrot)\n",
    "xym = np.dot(homogeneous_coords(xy), m)\n",
    "xym"
   ]
  },
  {
   "cell_type": "code",
   "execution_count": null,
   "metadata": {
    "collapsed": false
   },
   "outputs": [],
   "source": [
    "# fit of design positions to measured positions\n",
    "mfit, _, _, _ = np.linalg.lstsq(homogeneous_coords(xy), xym)\n",
    "mfit"
   ]
  },
  {
   "cell_type": "code",
   "execution_count": null,
   "metadata": {
    "collapsed": false
   },
   "outputs": [],
   "source": [
    "# fitted positions\n",
    "xyf = np.dot(homogeneous_coords(xy), mfit)\n",
    "xyf"
   ]
  },
  {
   "cell_type": "code",
   "execution_count": null,
   "metadata": {
    "collapsed": false
   },
   "outputs": [],
   "source": [
    "mfittr, mfitsc, mfitrot, mfitsh = decomp(mfit)\n",
    "mfitall = np.dot(np.dot(np.dot(mfitsc, mfitrot), mfitsh), mfittr)\n",
    "mfitall, (np.abs(mfitall - m) < 1e-15).all()"
   ]
  },
  {
   "cell_type": "code",
   "execution_count": null,
   "metadata": {
    "collapsed": false
   },
   "outputs": [],
   "source": [
    "mfitall = np.dot(np.dot(np.dot(mfittr, mfitrot), mfitsc), mfitsh)\n",
    "mfitall, (np.abs(mfitall - m) < 1e-15).all()"
   ]
  },
  {
   "cell_type": "code",
   "execution_count": null,
   "metadata": {
    "collapsed": false
   },
   "outputs": [],
   "source": [
    "xyf1 = np.dot(homogeneous_coords(xy), \n",
    "              np.dot(np.dot(mfitsc, np.dot(mfitrot, mfitsh)), mfittr))\n",
    "#xyf1 = np.dot(homogeneous_coords(xy), mfit)"
   ]
  },
  {
   "cell_type": "code",
   "execution_count": null,
   "metadata": {
    "collapsed": false
   },
   "outputs": [],
   "source": [
    "# deviations\n",
    "xyc = xym[:, :2] - xy\n",
    "xyc"
   ]
  },
  {
   "cell_type": "code",
   "execution_count": null,
   "metadata": {
    "collapsed": false
   },
   "outputs": [],
   "source": [
    "# plot design positions, measured positions, and deviations\n",
    "fig2 = plt.figure()\n",
    "fig2.set_size_inches(7.5, 7.5)\n",
    "\n",
    "ax20 = fig2.add_subplot(1, 1, 1)\n",
    "ax20.add_patch(Polygon(xy, closed=True, fill=True, alpha=0.3, color=\"k\"))\n",
    "ax20.scatter(xy[:, 0], xy[:, 1], color=\"k\")\n",
    "ax20.scatter(xym[:, 0], xym[:, 1], color=\"r\")\n",
    "#ax20.scatter(xyf1[:, 0], xyf1[:, 1], color=\"g\")\n",
    "ax20.quiver(xy[:,0], xy[:,1], xyc[:, 0], xyc[:, 1],\n",
    "            units=\"xy\", scale=1e0)\n",
    "\n",
    "\n",
    "mtmp0 = np.dot(np.dot(np.dot(mfitsc, mfitrot), mfitsh), mfittr)\n",
    "#mtmp0 = np.dot(np.dot(np.dot(mfittr, mfitsc), mfitrot), mfitsh)\n",
    "xytmp0 = np.dot(homogeneous_coords(xy), mtmp0)\n",
    "ax20.add_patch(Polygon(xytmp0[:, :2], closed=True, fill=True, alpha=0.3, color=\"pink\"))\n",
    "ax20.scatter(xytmp0[:, 0], xytmp0[:, 1], \n",
    "             color=\"pink\")\n",
    "\n",
    "#mtmp1 = np.dot(np.dot(mfitsc, mfitrot), mfittr)\n",
    "mtmp1 = np.dot(np.dot(mfitrot, mfitsh), mfittr)\n",
    "xytmp1 = np.dot(homogeneous_coords(xy), mtmp1)\n",
    "ax20.add_patch(Polygon(xytmp1[:, :2], closed=True, fill=True, alpha=0.3, color=\"orange\"))\n",
    "ax20.scatter(xytmp1[:, 0], xytmp1[:, 1],\n",
    "             color=\"orange\")\n",
    "\n",
    "mtmp2 = np.dot(mfitrot, mfittr)\n",
    "xytmp2 = np.dot(homogeneous_coords(xy), mtmp2)\n",
    "ax20.add_patch(Polygon(xytmp2[:, :2], closed=True, fill=True, alpha=0.3, color=\"y\"))\n",
    "ax20.scatter(xytmp2[:, 0], xytmp2[:, 1], \n",
    "             color=\"y\")\n",
    "\n",
    "mtmp3 = mfittr\n",
    "xytmp3 = np.dot(homogeneous_coords(xy), mtmp3)\n",
    "ax20.add_patch(Polygon(xytmp3[:, :2], closed=True, fill=True, alpha=0.3, color=\"blue\"))\n",
    "ax20.scatter(xytmp3[:, 0], xytmp3[:, 1], \n",
    "             color=\"blue\")\n",
    "\n",
    "ax20.set_xlim(-6, 6)\n",
    "ax20.set_ylim(-6, 6)\n",
    "ax20.grid()"
   ]
  },
  {
   "cell_type": "markdown",
   "metadata": {},
   "source": [
    "**Least squares fit accuracy**"
   ]
  },
  {
   "cell_type": "code",
   "execution_count": null,
   "metadata": {
    "collapsed": false
   },
   "outputs": [],
   "source": [
    "d = xyf[:, :2] - xym[:, :2]\n",
    "d, d.mean(axis=0), d.std(axis=0)"
   ]
  },
  {
   "cell_type": "markdown",
   "metadata": {},
   "source": [
    "## Decompose into translation and rotation with Kabsch Algorithm"
   ]
  },
  {
   "cell_type": "code",
   "execution_count": null,
   "metadata": {
    "collapsed": true
   },
   "outputs": [],
   "source": [
    "def kabsch_rmsd(xy1, xy2):\n",
    "    \"\"\"Calculate the optimal rotation that minimizes the RMSD between \n",
    "    two sets of points.\n",
    "    \n",
    "    * http://en.wikipedia.org/wiki/Kabsch_algorithm\n",
    "    \"\"\"\n",
    "    # Center xy1 and xy2.\n",
    "    xy1_c = xy1.mean(axis=0)\n",
    "    xy2_c = xy2.mean(axis=0)\n",
    "    #print \"removing centers\", xy1_c, xy2_c\n",
    "    a = xy1 - xy1_c\n",
    "    b = xy2 - xy2_c\n",
    "    \n",
    "    # Covariance matrix.\n",
    "    c = np.dot(a.T, b)\n",
    "    #print \"covariance matrix\", c\n",
    "    \n",
    "    # Calculate optimal rotation matrix (I).\n",
    "    v, s, w = np.linalg.svd(c)\n",
    "    \n",
    "    # Ensure right-handed coordinate system.\n",
    "    if (np.linalg.det(v) * np.linalg.det(w)) < 0.0:\n",
    "        s[-1] = -s[-1]\n",
    "        v[:, -1] = -v[:, -1]\n",
    "\n",
    "    # Calculate optimal rotation matrix (II).\n",
    "    #print \"v, w\", v, w\n",
    "    m = np.dot(v, w)\n",
    "    \n",
    "    return m"
   ]
  },
  {
   "cell_type": "code",
   "execution_count": null,
   "metadata": {
    "collapsed": false
   },
   "outputs": [],
   "source": [
    "krot = kabsch_rmsd(xy, xym[:, :2])\n",
    "kphi= np.arctan2(-krot[0, 1], krot[0, 0])\n",
    "mphi= np.arctan2(-mfitrot[0, 1], mfitrot[0, 0])\n",
    "\n",
    "krot, kphi / pi * 180, mfitrot, mphi / pi * 180"
   ]
  },
  {
   "cell_type": "code",
   "execution_count": null,
   "metadata": {
    "collapsed": false
   },
   "outputs": [],
   "source": [
    "# plot design positions, measured positions, and deviations\n",
    "fig2 = plt.figure()\n",
    "fig2.set_size_inches(7.5, 7.5)\n",
    "\n",
    "ax20 = fig2.add_subplot(1, 1, 1)\n",
    "ax20.add_patch(Polygon(xy, closed=True, fill=True, alpha=0.3, color=\"k\"))\n",
    "ax20.scatter(xy[:, 0], xy[:, 1], color=\"k\")\n",
    "ax20.add_patch(Polygon(xym[:, :2], closed=True, fill=True, alpha=0.3, color=\"r\"))\n",
    "ax20.scatter(xym[:, 0], xym[:, 1], color=\"r\")\n",
    "#ax20.quiver(xy[:,0], xy[:,1], xyc[:, 0], xyc[:, 1],\n",
    "#            units=\"xy\", scale=1e0)\n",
    "\n",
    "xy_c = xy.mean(axis=0)\n",
    "xym_c = xym[:, :2].mean(axis=0)\n",
    "xytmp = np.dot(xy - xy_c, krot) + xym_c\n",
    "ax20.add_patch(Polygon(xytmp, closed=True, fill=True, alpha=0.3, color=\"y\"))\n",
    "ax20.scatter(xytmp[:, 0], xytmp[:, 1],\n",
    "             color=\"y\")\n",
    "\n",
    "xytmp2 = xym #np.dot(homogeneous_coords(xy), m)\n",
    "ax20.add_patch(Polygon(xytmp2[:, :2], closed=True, fill=True, alpha=0.3, color=\"pink\"))\n",
    "ax20.scatter(xytmp2[:, 0], xytmp2[:, 1], \n",
    "             color=\"pink\")\n",
    "\n",
    "ax20.set_xlim(-6, 6)\n",
    "ax20.set_ylim(-6, 6)\n",
    "ax20.grid()"
   ]
  },
  {
   "cell_type": "markdown",
   "metadata": {},
   "source": [
    "## Decompose fitting each component separately"
   ]
  },
  {
   "cell_type": "markdown",
   "metadata": {},
   "source": [
    "### 1. Fit Translation"
   ]
  },
  {
   "cell_type": "code",
   "execution_count": null,
   "metadata": {
    "collapsed": false
   },
   "outputs": [],
   "source": [
    "# fit translation (subtract means)\n",
    "#xy, xym[:, :2]\n",
    "a = xy - xy.mean(axis=0)\n",
    "b = xym[:, :2] - xym[:, :2].mean(axis=0)\n",
    "\n",
    "tr = xym[:, :2].mean(axis=0) - xy.mean(axis=0)\n",
    "tr, mfittr"
   ]
  },
  {
   "cell_type": "code",
   "execution_count": null,
   "metadata": {
    "collapsed": false
   },
   "outputs": [],
   "source": [
    "# plot design positions, measured positions, and deviations\n",
    "fig2 = plt.figure()\n",
    "fig2.set_size_inches(7.5, 7.5)\n",
    "\n",
    "ax20 = fig2.add_subplot(1, 1, 1)\n",
    "\n",
    "xytmp0 = a\n",
    "ax20.add_patch(Polygon(xytmp0, closed=True, fill=True, alpha=0.3, color=\"k\"))\n",
    "ax20.scatter(xytmp0[:, 0], xytmp0[:, 1], color=\"k\")\n",
    "\n",
    "xytmp1 = a # + xy.mean(axis=0) + tr\n",
    "ax20.add_patch(Polygon(xytmp1, closed=True, fill=True, alpha=0.3, color=\"blue\"))\n",
    "ax20.scatter(xytmp1[:, 0], xytmp1[:, 1], color=\"blue\")\n",
    "\n",
    "xytmp2 = b #+ xym[:, :2].mean(axis=0)\n",
    "ax20.add_patch(Polygon(xytmp2[:, :2], closed=True, fill=True, alpha=0.3, color=\"pink\"))\n",
    "ax20.scatter(xytmp2[:, 0], xytmp2[:, 1], color=\"pink\")\n",
    "\n",
    "ax20.set_xlim(-6, 6)\n",
    "ax20.set_ylim(-6, 6)\n",
    "ax20.grid()"
   ]
  },
  {
   "cell_type": "markdown",
   "metadata": {},
   "source": [
    "### 2. Fit Rotation"
   ]
  },
  {
   "cell_type": "code",
   "execution_count": null,
   "metadata": {
    "collapsed": false
   },
   "outputs": [],
   "source": [
    "import scipy.optimize"
   ]
  },
  {
   "cell_type": "code",
   "execution_count": null,
   "metadata": {
    "collapsed": true
   },
   "outputs": [],
   "source": [
    "def to_mrot(phi):\n",
    "    return np.array(\n",
    "        [[np.cos(phi), -np.sin(phi)],\n",
    "         [np.sin(phi), np.cos(phi)]]\n",
    "    )"
   ]
  },
  {
   "cell_type": "code",
   "execution_count": null,
   "metadata": {
    "collapsed": false
   },
   "outputs": [],
   "source": [
    "# fit rotation (after translation)\n",
    "a = xy - xy.mean(axis=0)\n",
    "xytmp = xym #np.dot(xy - xy_c, krot) + xym_c\n",
    "b = xytmp[:, :2] - xytmp[:, :2].mean(axis=0)\n",
    "#a, b\n",
    "funx = lambda phi: np.sum(np.cos(phi) * a[:, 0] - np.sin(phi) * a[:, 1] - b[:, 0])\n",
    "funy = lambda phi: np.sum(np.sin(phi) * a[:, 0] + np.cos(phi) * a[:, 1] - b[:, 1])\n",
    "fun = lambda phi: np.sum((np.cos(phi) * a[:, 0] - np.sin(phi) * a[:, 1] - b[:, 0])**2 + \n",
    "                         (np.sin(phi) * a[:, 0] + np.cos(phi) * a[:, 1] - b[:, 1])**2)\n",
    "funxphi = scipy.optimize.brent(funx)\n",
    "funyphi = scipy.optimize.brent(funy)\n",
    "funphi1 = scipy.optimize.brent(fun)\n",
    "funphi2 = scipy.optimize.fmin(fun, np.array([0]))[0]\n",
    "funphi3 = scipy.optimize.minimize_scalar(fun)[\"x\"]\n",
    "funphi = funphi1\n",
    "print funxphi, funyphi, funphi1, funphi2, funphi3\n",
    "to_mrot(-funphi)"
   ]
  },
  {
   "cell_type": "code",
   "execution_count": null,
   "metadata": {
    "collapsed": false
   },
   "outputs": [],
   "source": [
    "fig2 = plt.figure()\n",
    "fig2.set_size_inches(7.5, 7.5)\n",
    "\n",
    "ax20 = fig2.add_subplot(1, 1, 1)\n",
    "\n",
    "xytmp0 = a\n",
    "ax20.add_patch(Polygon(xytmp0, closed=True, fill=True, alpha=0.3, color=\"k\"))\n",
    "ax20.scatter(xytmp0[:, 0], xytmp0[:, 1], color=\"k\")\n",
    "\n",
    "#xytmp1 = np.dot(a, mrot[:2, :2])\n",
    "xytmp1 = np.dot(a, to_mrot(-funphi))\n",
    "#xytmp1 = np.dot(a, kabsch_rmsd(a, b))\n",
    "ax20.add_patch(Polygon(xytmp1, closed=True, fill=True, alpha=0.3, color=\"y\"))\n",
    "ax20.scatter(xytmp1[:, 0], xytmp1[:, 1], color=\"y\")\n",
    "\n",
    "xytmp2 = b\n",
    "ax20.add_patch(Polygon(xytmp2[:, :2], closed=True, fill=True, alpha=0.3, color=\"pink\"))\n",
    "ax20.scatter(xytmp2[:, 0], xytmp2[:, 1], \n",
    "             color=\"pink\")\n",
    "\n",
    "ax20.set_xlim(-6, 6)\n",
    "ax20.set_ylim(-6, 6)\n",
    "ax20.grid()"
   ]
  },
  {
   "cell_type": "markdown",
   "metadata": {},
   "source": [
    "### 3. Fit Scaling"
   ]
  },
  {
   "cell_type": "code",
   "execution_count": null,
   "metadata": {
    "collapsed": true
   },
   "outputs": [],
   "source": [
    "def to_msc(s):\n",
    "    return np.array(\n",
    "        [[s[0], 0],\n",
    "         [0, s[1]]]\n",
    "        )"
   ]
  },
  {
   "cell_type": "code",
   "execution_count": null,
   "metadata": {
    "collapsed": false
   },
   "outputs": [],
   "source": [
    "# fit scaling (after translation and rotation)\n",
    "a = xy - xy.mean(axis=0)\n",
    "xytmp = xym\n",
    "b = np.dot((xytmp[:, :2] - xytmp[:, :2].mean(axis=0)), to_mrot(funphi))\n",
    "#a, b\n",
    "fun = lambda s: np.sum((s[0]*a[:, 0] - b[:, 0])**2 + \n",
    "                       (s[1]*a[:, 1] - b[:, 1])**2)\n",
    "funsc = scipy.optimize.minimize(fun, (1, 1))[\"x\"]\n",
    "to_msc(funsc)"
   ]
  },
  {
   "cell_type": "code",
   "execution_count": null,
   "metadata": {
    "collapsed": false
   },
   "outputs": [],
   "source": [
    "fig2 = plt.figure()\n",
    "fig2.set_size_inches(7.5, 7.5)\n",
    "\n",
    "ax20 = fig2.add_subplot(1, 1, 1)\n",
    "\n",
    "xytmp0 = a\n",
    "ax20.add_patch(Polygon(xytmp0, closed=True, fill=True, alpha=0.3, color=\"k\"))\n",
    "ax20.scatter(xytmp0[:, 0], xytmp0[:, 1], color=\"k\")\n",
    "\n",
    "#xytmp1 = np.dot(a, mrot[:2, :2])\n",
    "xytmp1 = np.dot(a, to_msc(funsc))\n",
    "#xytmp1 = np.dot(a, kabsch_rmsd(a, b))\n",
    "ax20.add_patch(Polygon(xytmp1, closed=True, fill=True, alpha=0.3, color=\"red\"))\n",
    "ax20.scatter(xytmp1[:, 0], xytmp1[:, 1], color=\"red\")\n",
    "\n",
    "xytmp2 = b\n",
    "#xytmp2 = np.dot(a, to_mrot(-funphi))\n",
    "#xytmp2 = np.dot(a, kabsch_rmsd(a, b))\n",
    "ax20.add_patch(Polygon(xytmp2[:, :2], closed=True, fill=True, alpha=0.3, color=\"pink\"))\n",
    "ax20.scatter(xytmp2[:, 0], xytmp2[:, 1], \n",
    "             color=\"pink\")\n",
    "\n",
    "ax20.set_xlim(-6, 6)\n",
    "ax20.set_ylim(-6, 6)\n",
    "ax20.grid()"
   ]
  },
  {
   "cell_type": "markdown",
   "metadata": {},
   "source": [
    "### 4. Fit shear / orthogonality error"
   ]
  },
  {
   "cell_type": "code",
   "execution_count": null,
   "metadata": {
    "collapsed": true
   },
   "outputs": [],
   "source": [
    "def to_msh(s):\n",
    "    return np.array(\n",
    "        [[1, s[0]],\n",
    "         [s[1], 1]]\n",
    "        )"
   ]
  },
  {
   "cell_type": "code",
   "execution_count": null,
   "metadata": {
    "collapsed": false
   },
   "outputs": [],
   "source": [
    "# fit shear (after translation, rotation and scaling)\n",
    "a = xy - xy.mean(axis=0)\n",
    "xytmp = xym\n",
    "b = np.dot(np.dot((xytmp[:, :2] - xytmp[:, :2].mean(axis=0)), to_mrot(funphi)), \n",
    "           np.linalg.inv(to_msc(funsc)))\n",
    "#a, b\n",
    "fun = lambda s: np.sum((a[:, 0] + s[0]*a[:, 1] - b[:, 0])**2 + \n",
    "                       (s[1]*a[:, 0] + a[:, 1] - b[:, 1])**2)\n",
    "funsh = scipy.optimize.minimize(fun, (0, 0))[\"x\"]\n",
    "to_msh(funsh)"
   ]
  },
  {
   "cell_type": "code",
   "execution_count": null,
   "metadata": {
    "collapsed": false
   },
   "outputs": [],
   "source": [
    "fig2 = plt.figure()\n",
    "fig2.set_size_inches(7.5, 7.5)\n",
    "\n",
    "ax20 = fig2.add_subplot(1, 1, 1)\n",
    "\n",
    "xytmp0 = a\n",
    "ax20.add_patch(Polygon(xytmp0, closed=True, fill=True, alpha=0.3, color=\"k\"))\n",
    "ax20.scatter(xytmp0[:, 0], xytmp0[:, 1], color=\"k\")\n",
    "\n",
    "xytmp1 = np.dot(a, to_msh(funsh))\n",
    "ax20.add_patch(Polygon(xytmp1, closed=True, fill=True, alpha=0.3, color=\"cyan\"))\n",
    "ax20.scatter(xytmp1[:, 0], xytmp1[:, 1], color=\"cyan\")\n",
    "\n",
    "xytmp2 = b\n",
    "ax20.add_patch(Polygon(xytmp2[:, :2], closed=True, fill=True, alpha=0.3, color=\"pink\"))\n",
    "ax20.scatter(xytmp2[:, 0], xytmp2[:, 1], color=\"pink\")\n",
    "\n",
    "ax20.set_xlim(-6, 6)\n",
    "ax20.set_ylim(-6, 6)\n",
    "ax20.grid()"
   ]
  },
  {
   "cell_type": "markdown",
   "metadata": {},
   "source": [
    "### 5. Recompose shear, scale, rotation and translation"
   ]
  },
  {
   "cell_type": "code",
   "execution_count": null,
   "metadata": {
    "collapsed": false
   },
   "outputs": [],
   "source": [
    "# center\n",
    "a0 = (xy - xy.mean(axis=0))\n",
    "# shear\n",
    "xy2 = np.dot(a0, to_msh(funsh)) \n",
    "# scale\n",
    "xy3 = np.dot(np.dot(a0, to_msh(funsh)), to_msc(funsc))\n",
    "# rotate\n",
    "xy4 = np.dot(np.dot(np.dot(a0, to_msh(funsh)), to_msc(funsc)), to_mrot(-funphi))\n",
    "# translate\n",
    "xy5 = xy4 + xym[:, :2].mean(axis=0)"
   ]
  },
  {
   "cell_type": "code",
   "execution_count": null,
   "metadata": {
    "collapsed": false
   },
   "outputs": [],
   "source": [
    "fig2 = plt.figure()\n",
    "fig2.set_size_inches(7.5, 7.5)\n",
    "ax20 = fig2.add_subplot(1, 1, 1)\n",
    "\n",
    "\n",
    "ax20.add_patch(Polygon(xy, closed=True, fill=True, alpha=0.3, color=\"k\"))\n",
    "ax20.scatter(xy[:, 0], xy[:, 1], color=\"k\")\n",
    "ax20.add_patch(Polygon(xym[:, :2], closed=True, fill=True, alpha=0.3, color=\"green\"))\n",
    "ax20.scatter(xym[:, 0], xym[:, 1], color=\"green\")\n",
    "#ax20.quiver(xy[:,0], xy[:,1], xyc[:, 0], xyc[:, 1], units=\"xy\", scale=1e0)\n",
    "\n",
    "xytmp1 = a0\n",
    "ax20.add_patch(Polygon(xytmp1[:, :2], closed=True, fill=True, alpha=0.3, color=\"gray\"))\n",
    "ax20.scatter(xytmp1[:, 0], xytmp1[:, 1], color=\"gray\")\n",
    "\n",
    "xytmp2 = xy2\n",
    "ax20.add_patch(Polygon(xytmp2[:, :2], closed=True, fill=True, alpha=0.3, color=\"cyan\"))\n",
    "ax20.scatter(xytmp2[:, 0], xytmp2[:, 1], color=\"cyan\")\n",
    "\n",
    "xytmp3 = xy3\n",
    "ax20.add_patch(Polygon(xytmp3[:, :2], closed=True, fill=True, alpha=0.3, color=\"red\"))\n",
    "ax20.scatter(xytmp3[:, 0], xytmp3[:, 1], color=\"red\")\n",
    "\n",
    "xytmp4 = xy4\n",
    "ax20.add_patch(Polygon(xytmp4[:, :2], closed=True, fill=True, alpha=0.3, color=\"pink\"))\n",
    "ax20.scatter(xytmp4[:, 0], xytmp4[:, 1], color=\"pink\")\n",
    "\n",
    "xytmp5 = xy5\n",
    "ax20.add_patch(Polygon(xytmp5[:, :2], closed=True, fill=True, alpha=0.3, color=\"blue\"))\n",
    "ax20.scatter(xytmp5[:, 0], xytmp5[:, 1], color=\"blue\")\n",
    "\n",
    "\n",
    "ax20.set_xlim(-6, 6)\n",
    "ax20.set_ylim(-6, 6)\n",
    "ax20.grid()"
   ]
  },
  {
   "cell_type": "markdown",
   "metadata": {},
   "source": [
    "**Separate component fit accuracy**"
   ]
  },
  {
   "cell_type": "code",
   "execution_count": null,
   "metadata": {
    "collapsed": false
   },
   "outputs": [],
   "source": [
    "d = xy5 - xym[:, :2]\n",
    "d, d.mean(axis=0), d.std(axis=0)"
   ]
  },
  {
   "cell_type": "markdown",
   "metadata": {},
   "source": [
    "### 6. Fit linear transformation after separate component fit"
   ]
  },
  {
   "cell_type": "code",
   "execution_count": null,
   "metadata": {
    "collapsed": false
   },
   "outputs": [],
   "source": [
    "a = xy5 - xy5.mean(axis=0)\n",
    "b = xym[:, :2] - xym[:, :2].mean(axis=0)\n",
    "\n",
    "# least squares fit\n",
    "m = np.linalg.lstsq(a, b)[0]\n",
    "\n",
    "# fit rotation\n",
    "#fun = lambda phi: np.sum((np.cos(phi) * a[:, 0] - np.sin(phi) * a[:, 1] - b[:, 0])**2 + \n",
    "#                         (np.sin(phi) * a[:, 0] + np.cos(phi) * a[:, 1] - b[:, 1])**2)\n",
    "#funphi = scipy.optimize.brent(fun)\n",
    "#m = to_mrot(-funphi)\n",
    "\n",
    "# don't fit\n",
    "#m = np.eye(2)\n",
    "#m"
   ]
  },
  {
   "cell_type": "code",
   "execution_count": null,
   "metadata": {
    "collapsed": false
   },
   "outputs": [],
   "source": [
    "# plot design positions, measured positions, and deviations\n",
    "fig2 = plt.figure()\n",
    "fig2.set_size_inches(7.5, 7.5)\n",
    "\n",
    "ax20 = fig2.add_subplot(1, 1, 1)\n",
    "\n",
    "xytmp0 = a\n",
    "ax20.add_patch(Polygon(xytmp0, closed=True, fill=True, alpha=0.3, color=\"k\"))\n",
    "ax20.scatter(xytmp0[:, 0], xytmp0[:, 1], color=\"k\")\n",
    "\n",
    "xytmp1 = np.dot(a, m)\n",
    "ax20.add_patch(Polygon(xytmp1, closed=True, fill=True, alpha=0.3, color=\"cyan\"))\n",
    "ax20.scatter(xytmp1[:, 0], xytmp1[:, 1], color=\"cyan\")\n",
    "\n",
    "xytmp1 = b\n",
    "ax20.add_patch(Polygon(xytmp1, closed=True, fill=True, alpha=0.3, color=\"pink\"))\n",
    "ax20.scatter(xytmp1[:, 0], xytmp1[:, 1], color=\"pink\")\n",
    "\n",
    "ax20.set_xlim(-6, 6)\n",
    "ax20.set_ylim(-6, 6)\n",
    "ax20.grid()"
   ]
  },
  {
   "cell_type": "markdown",
   "metadata": {},
   "source": [
    "**Separate component fit plus linear transformation least squares fit accuracy**"
   ]
  },
  {
   "cell_type": "code",
   "execution_count": null,
   "metadata": {
    "collapsed": false
   },
   "outputs": [],
   "source": [
    "d = np.dot(a, m) - b\n",
    "d, d.mean(axis=0), d.std(axis=0)"
   ]
  },
  {
   "cell_type": "markdown",
   "metadata": {},
   "source": [
    "## Write to DataFrame and csv-file"
   ]
  },
  {
   "cell_type": "code",
   "execution_count": null,
   "metadata": {
    "collapsed": false
   },
   "outputs": [],
   "source": [
    "df = pd.DataFrame(dtype=np.float64)\n",
    "df[\"x pos design\"] = xy[:,0]\n",
    "df[\"y pos design\"] = xy[:,1]\n",
    "df[\"x dev\"] = xyc[:,0]\n",
    "df[\"y dev\"] = xyc[:,1]\n",
    "df.info()"
   ]
  },
  {
   "cell_type": "code",
   "execution_count": null,
   "metadata": {
    "collapsed": false
   },
   "outputs": [],
   "source": [
    "print df.to_csv(sep=\";\", float_format=\"%12.5f\")"
   ]
  },
  {
   "cell_type": "code",
   "execution_count": null,
   "metadata": {
    "collapsed": false
   },
   "outputs": [],
   "source": [
    "#df[\"y dev\"][5] = np.nan\n",
    "#df[\"x dev\"][4] = np.nan\n",
    "#print df.to_csv(sep=\";\", float_format=\"%12.5f\", na_rep=\" \"*12)"
   ]
  }
 ],
 "metadata": {
  "kernelspec": {
   "display_name": "Python 2",
   "language": "python",
   "name": "python2"
  },
  "language_info": {
   "codemirror_mode": {
    "name": "ipython",
    "version": 2
   },
   "file_extension": ".py",
   "mimetype": "text/x-python",
   "name": "python",
   "nbconvert_exporter": "python",
   "pygments_lexer": "ipython2",
   "version": "2.7.9"
  }
 },
 "nbformat": 4,
 "nbformat_minor": 0
}
