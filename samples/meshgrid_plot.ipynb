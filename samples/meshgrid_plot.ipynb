{
 "cells": [
  {
   "cell_type": "code",
   "execution_count": null,
   "metadata": {
    "collapsed": false
   },
   "outputs": [],
   "source": [
    "%pylab inline"
   ]
  },
  {
   "cell_type": "code",
   "execution_count": null,
   "metadata": {
    "collapsed": false
   },
   "outputs": [],
   "source": [
    "nx, ny = 5, 5\n",
    "x, y = np.meshgrid(np.linspace(-2, 2, nx), np.linspace(-2, 2, ny))\n",
    "xy = np.array([x.flatten(), y.flatten()])\n",
    "xy"
   ]
  },
  {
   "cell_type": "code",
   "execution_count": null,
   "metadata": {
    "collapsed": false
   },
   "outputs": [],
   "source": [
    "x[:-1, :-1], y[:-1, :-1]"
   ]
  },
  {
   "cell_type": "code",
   "execution_count": null,
   "metadata": {
    "collapsed": false
   },
   "outputs": [],
   "source": [
    "m0 = np.array([[1.5, 0.25],\n",
    "               [0, 0.8]])\n",
    "phi = np.pi / 3\n",
    "m1 = np.array([[np.cos(phi), np.sin(phi)],\n",
    "               [-np.sin(phi), np.cos(phi)]])\n",
    "\n",
    "m = np.dot(m0, m1)\n",
    "xy2 = np.dot(m, xy)\n",
    "noise = (np.random.rand(2, nx*ny) - 0.5) * 0.2\n",
    "xy2 += noise\n",
    "xy2"
   ]
  },
  {
   "cell_type": "code",
   "execution_count": null,
   "metadata": {
    "collapsed": false
   },
   "outputs": [],
   "source": [
    "x2 = xy2[0].reshape(nx, ny)\n",
    "y2 = xy2[1].reshape(nx, ny)\n",
    "x2, y2"
   ]
  },
  {
   "cell_type": "code",
   "execution_count": null,
   "metadata": {
    "collapsed": false
   },
   "outputs": [],
   "source": [
    "f0 = plt.figure()\n",
    "a0 = f0.add_subplot(111, aspect='equal')\n",
    "a0.plot(xy[0], xy[1], 'ro')\n",
    "a0.plot(xy2[0], xy2[1], 'b*')\n",
    "a0.set_xlim(-4, 4)\n",
    "a0.set_ylim(-4, 4)\n",
    "a0.grid()"
   ]
  },
  {
   "cell_type": "code",
   "execution_count": null,
   "metadata": {
    "collapsed": false
   },
   "outputs": [],
   "source": [
    "lowerleftx = x2[:-1, :-1].flatten()\n",
    "lowerrightx = x2[:-1, 1:].flatten()\n",
    "lowerlefty = y2[:-1, :-1].flatten()\n",
    "lowerrighty = y2[:-1, 1:].flatten()\n",
    "#lowerlefty, lowerrighty\n",
    "upperleftx = x2[1:, :-1].flatten()\n",
    "upperrightx = x2[1:, 1:].flatten()\n",
    "upperlefty = y2[1:, :-1].flatten()\n",
    "upperrighty = y2[1:, 1:].flatten()"
   ]
  },
  {
   "cell_type": "code",
   "execution_count": null,
   "metadata": {
    "collapsed": false
   },
   "outputs": [],
   "source": [
    "nrects = (nx-1) * (ny-1)\n",
    "nverts = nrects * (1+3+1)\n",
    "verts = np.zeros((nverts, 2))"
   ]
  },
  {
   "cell_type": "code",
   "execution_count": null,
   "metadata": {
    "collapsed": false
   },
   "outputs": [],
   "source": [
    "codes = np.ones(nverts, int) * mpl.path.Path.LINETO\n",
    "codes[0::5] = mpl.path.Path.MOVETO\n",
    "codes[4::5] = mpl.path.Path.CLOSEPOLY"
   ]
  },
  {
   "cell_type": "code",
   "execution_count": null,
   "metadata": {
    "collapsed": false
   },
   "outputs": [],
   "source": [
    "verts[0::5,0] = lowerleftx\n",
    "verts[0::5,1] = lowerlefty\n",
    "verts[1::5,0] = upperleftx\n",
    "verts[1::5,1] = upperlefty\n",
    "verts[2::5,0] = upperrightx\n",
    "verts[2::5,1] = upperrighty\n",
    "verts[3::5,0] = lowerrightx\n",
    "verts[3::5,1] = lowerrighty"
   ]
  },
  {
   "cell_type": "code",
   "execution_count": null,
   "metadata": {
    "collapsed": false
   },
   "outputs": [],
   "source": [
    "vertspath = mpl.path.Path(verts, codes)\n",
    "patch = mpl.patches.PathPatch(vertspath, facecolor='none', edgecolor='black', alpha=0.5)\n",
    "f2 = plt.figure()\n",
    "a2 = f2.add_subplot(111, aspect='equal')\n",
    "a2.plot(xy[0], xy[1], 'ro')\n",
    "a2.plot(xy2[0], xy2[1], 'bx')\n",
    "a2.add_patch(patch)\n",
    "a2.set_xlim(-4, 4)\n",
    "a2.set_ylim(-4, 4)"
   ]
  },
  {
   "cell_type": "code",
   "execution_count": null,
   "metadata": {
    "collapsed": false
   },
   "outputs": [],
   "source": [
    "verts[0:5]"
   ]
  },
  {
   "cell_type": "code",
   "execution_count": null,
   "metadata": {
    "collapsed": true
   },
   "outputs": [],
   "source": []
  }
 ],
 "metadata": {
  "kernelspec": {
   "display_name": "Python 2",
   "language": "python",
   "name": "python2"
  },
  "language_info": {
   "codemirror_mode": {
    "name": "ipython",
    "version": 2
   },
   "file_extension": ".py",
   "mimetype": "text/x-python",
   "name": "python",
   "nbconvert_exporter": "python",
   "pygments_lexer": "ipython2",
   "version": "2.7.9"
  }
 },
 "nbformat": 4,
 "nbformat_minor": 0
}
